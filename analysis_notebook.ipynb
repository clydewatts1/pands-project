{
 "cells": [
  {
   "cell_type": "markdown",
   "metadata": {},
   "source": [
    "# Iris Project - Supplementary Notebook\n",
    "24-25: 4122 -- PROGRAMMING AND SCRIPTING : Project\n",
    "\n",
    "The objective of this jupyter notebook is to use the analysis.py module and show some of the functionality of the analysis.py module as well as commnent on the iris dataset.\n",
    "\n",
    "Some of the functions in the analysis.py module which are called in this notebook have a parameter which defines if the function will write a file or run show plots. The default behaiviour is to write to file but there is a write to console options , which writes or shows to the console or in this case the jupyter notebook.\n",
    "\n",
    "\n",
    "## Requirements\n",
    "\n",
    "Requirements:\n",
    "1. Research the data set online and write a summary about it in your README.\n",
    "2. Download the data set and add it to your repository.\n",
    "3. Write a program called analysis.py that:\n",
    "    1. Outputs a summary of each variable to a single text file,\n",
    "    2. Saves a histogram of each variable to png files, and\n",
    "    3. Outputs a scatter plot of each pair of variables.\n",
    "    4. Performs any other analysis you think is appropriate.\n",
    "\n",
    "## References\n",
    "\n",
    "- Github Copilot. (n.d.). *GitHub Copilot*.  This is a code completion tool that uses machine learning to suggest code snippets and functions based on the context\n",
    "\n",
    "*Note: The code for functions will be associated with functions in analysis.py module will be shown as well , using the describe function*\n"
   ]
  },
  {
   "cell_type": "markdown",
   "metadata": {},
   "source": [
    "### Import some standard libraries"
   ]
  },
  {
   "cell_type": "code",
   "execution_count": null,
   "metadata": {},
   "outputs": [],
   "source": [
    "import pandas as pd\n",
    "import numpy as np\n",
    "import matplotlib.pyplot as plt\n",
    "import seaborn as sns\n",
    "import inspect"
   ]
  },
  {
   "cell_type": "markdown",
   "metadata": {},
   "source": [
    "### Import python module analysis.py \n",
    "\n",
    "This follows the DRY principle (Don't Repeat Yourself) and allows the easy testing of the code in the analysis.py module. This also means that code is not repeated in the notebook"
   ]
  },
  {
   "cell_type": "code",
   "execution_count": null,
   "metadata": {},
   "outputs": [],
   "source": [
    "import analysis as an"
   ]
  },
  {
   "cell_type": "markdown",
   "metadata": {},
   "source": [
    "### Load Iris Data Set"
   ]
  },
  {
   "cell_type": "code",
   "execution_count": null,
   "metadata": {},
   "outputs": [],
   "source": [
    "# load iris data set and check return code\n",
    "# return code 0 means success\n",
    "return_code, df_iris = an.load_data(an.config)\n",
    "if return_code != 0:\n",
    "    print(f\"Error loading data : {return_code}\")\n",
    "else:\n",
    "    print(\"Data loaded successfully\")"
   ]
  },
  {
   "cell_type": "markdown",
   "metadata": {},
   "source": [
    "**Code**"
   ]
  },
  {
   "cell_type": "code",
   "execution_count": null,
   "metadata": {},
   "outputs": [],
   "source": [
    "print(inspect.getsource(an.load_data))"
   ]
  },
  {
   "cell_type": "markdown",
   "metadata": {},
   "source": [
    "### Convert Iris Data Frame to Metric Data Frame\n",
    "\n",
    "The data frame is melted so that it is a feature per row. This is helpful when summarising the data\n",
    "\n",
    "Converts from a format \n",
    "\n",
    "| sepal_length | sepal_width | petal_length | petal_width | species |\n",
    "|--------------|-------------|--------------|-------------|---------|\n",
    "| 5.1          | 3.5         | 1.4          | 0.2         | setosa  |\n",
    "| 4.9          | 3.0         | 1.4          | 0.2         | setosa  |\n",
    "\n",
    "To a metric data frame\n",
    "| feature       | value | species |\n",
    "|--------------|-------|---------|\n",
    "| sepal_length | 5.1   | setosa  |\n",
    "| sepal_length | 4.9   | setosa  |\n",
    "| sepal_width  | 3.5   | setosa  |\n",
    "| sepal_width  | 3.0   | setosa  |\n",
    "\n"
   ]
  },
  {
   "cell_type": "code",
   "execution_count": null,
   "metadata": {},
   "outputs": [],
   "source": [
    "# convert to a metric dataframe\n",
    "return_code = an.convert_to_metrics_df(an.config)\n",
    "if return_code != 0:\n",
    "    print(f\"Error converting data to metrics dataframe : {return_code}\")\n",
    "else:\n",
    "    print(\"Data converted to metrics dataframe successfully\")\n",
    "print('Melted data frame head:')\n",
    "an.config['df_iris_melt'].head()"
   ]
  },
  {
   "cell_type": "markdown",
   "metadata": {},
   "source": [
    "**Code**"
   ]
  },
  {
   "cell_type": "code",
   "execution_count": null,
   "metadata": {},
   "outputs": [],
   "source": [
    "print(inspect.getsource(an.convert_to_metrics_df))"
   ]
  },
  {
   "cell_type": "markdown",
   "metadata": {},
   "source": [
    "### Load Summary Data Set\n",
    "\n",
    "This converts the iris melted data from to a summary data frame. This contains Mean,Max,Min,Std Dev,Median , Q25 , Q75 for each species and each feature"
   ]
  },
  {
   "cell_type": "code",
   "execution_count": null,
   "metadata": {},
   "outputs": [],
   "source": [
    "# create a summary dataframe\n",
    "return_code = an.load_summary(an.config)\n",
    "if return_code != 0:\n",
    "    print(f\"Error creating summary dataframe : {return_code}\")\n",
    "else:\n",
    "    print(\"Summary dataframe created successfully\")\n",
    "\n",
    "an.config['df_summary'].head()"
   ]
  },
  {
   "cell_type": "markdown",
   "metadata": {},
   "source": [
    "**Code**"
   ]
  },
  {
   "cell_type": "code",
   "execution_count": null,
   "metadata": {},
   "outputs": [],
   "source": [
    "print(inspect.getsource(an.load_summary))"
   ]
  },
  {
   "cell_type": "markdown",
   "metadata": {},
   "source": [
    "## Run generate report \n",
    "\n",
    "This will display the report in the notebook and also save it to a file.\n"
   ]
  },
  {
   "cell_type": "code",
   "execution_count": null,
   "metadata": {},
   "outputs": [],
   "source": [
    "return_code = an.generate_report(an.config, to_console=True)\n",
    "if return_code != 0:\n",
    "    print(f\"Error generating report : {return_code}\")\n",
    "else:\n",
    "    print(\"Report generated successfully\")"
   ]
  },
  {
   "cell_type": "markdown",
   "metadata": {},
   "source": [
    "**Code**"
   ]
  },
  {
   "cell_type": "code",
   "execution_count": null,
   "metadata": {},
   "outputs": [],
   "source": [
    "print(inspect.getsource(an.generate_report))"
   ]
  },
  {
   "cell_type": "markdown",
   "metadata": {},
   "source": [
    "## Plot histogram of the data\n",
    "This will display the histogram in the notebook and also save it to a file using generate_histogram function in the analysis.py module\n",
    "\n",
    "The histograms show that the there is distinct diffirence between iris setosa and the other two species ( versicolor and virginica) with respect to petal length and petal width.  The sepal length and width do not show an obvious difference between the three species. \n",
    "\n",
    "*Note: There is an alternative histogram function which saves each histogram as a separate file.*"
   ]
  },
  {
   "cell_type": "code",
   "execution_count": null,
   "metadata": {},
   "outputs": [],
   "source": [
    "an.generate_histograms_combined(an.config, to_console=True)"
   ]
  },
  {
   "cell_type": "markdown",
   "metadata": {},
   "source": [
    "**Code**"
   ]
  },
  {
   "cell_type": "code",
   "execution_count": null,
   "metadata": {},
   "outputs": [],
   "source": [
    "print(inspect.getsource(an.generate_histograms_combined))"
   ]
  },
  {
   "cell_type": "markdown",
   "metadata": {},
   "source": [
    "## Plot Scatterplot of the data\n",
    "This will display the scatterplot in the notebook and also save it to a file.\n",
    "of the code. \n",
    "\n",
    "There is a distinct relationship between petal length and petal width , as well as the species. This may imply that only one of the features needs to be used , or possible the width and length of the petal can be comined ( approximate servace area , either assume a rectangle or ellipse) to create a new feature. The formulae for a elipse is pi * a * b where a and b are the semi major and minor axes. The formulae for a rectangle is a * b (https://www.cuemath.com/geometry/area-of-an-ellipse/) and alternative is the circumference of a circle ( pi * sqrt(2[a**2+b**2]) (https://www.cuemath.com/measurement/perimeter-of-ellipse/)\n",
    "\n",
    "References:\n",
    "- [Seaborn Scatterplot](https://seaborn.pydata.org/generated/seaborn.scatterplot.html) "
   ]
  },
  {
   "cell_type": "code",
   "execution_count": null,
   "metadata": {},
   "outputs": [],
   "source": [
    "an.generate_scatter_plot(an.config, to_console=True)"
   ]
  },
  {
   "cell_type": "code",
   "execution_count": null,
   "metadata": {},
   "outputs": [],
   "source": [
    "# print the source code of the generate_scatter_plot function\n",
    "lines = inspect.getsource(an.generate_scatter_plot)\n",
    "print(lines)"
   ]
  },
  {
   "cell_type": "markdown",
   "metadata": {},
   "source": [
    "## Plot Box plot of the data\n",
    "This will display the boxplot in the notebook and also save it to a file.\n",
    "\n",
    "The box plot shows the summary metrics in a diagram , so that the data can be easily visualised. The box plot shows the median, Q25 and Q75 as the box , and the whiskers shows a line at IQR * 1.5 above and below the box. Anything outside ( above and below ) is considered an outlier. \n",
    "\n",
    "What is interesting is the seperation between the species. In the sepal's there is more overlap than the petal's length and width. "
   ]
  },
  {
   "cell_type": "code",
   "execution_count": null,
   "metadata": {},
   "outputs": [],
   "source": [
    "an.generate_box_plot(an.config, to_console=True)"
   ]
  },
  {
   "cell_type": "markdown",
   "metadata": {},
   "source": [
    "**Code**"
   ]
  },
  {
   "cell_type": "code",
   "execution_count": null,
   "metadata": {},
   "outputs": [],
   "source": [
    "print(inspect.getsource(an.generate_box_plot))"
   ]
  },
  {
   "cell_type": "markdown",
   "metadata": {},
   "source": [
    "## Box Plot of iris data set - Common X axis\n",
    "This will display the boxplot in the notebook and also save it to a file.\n",
    "This is a box plot , similar to the above for each species of iris and feature with a common x axis . This makes it easier to proportianly compare the species and features.\n",
    "\n",
    "The species setosa stands out as distinct from the other two species , with respect to the petal length and petal width , there is also seperation for the other two species but it is less distinct . There is cross over between the two species , especially with respect to outliers."
   ]
  },
  {
   "cell_type": "code",
   "execution_count": null,
   "metadata": {},
   "outputs": [],
   "source": [
    "return_code = an.generate_box_plot_II(an.config, to_console=True)\n",
    "if return_code != 0:\n",
    "    print(f\"Error generating box plot I : {return_code}\")\n",
    "else:\n",
    "    print(\"Box plot I generated successfully\")\n"
   ]
  },
  {
   "cell_type": "markdown",
   "metadata": {},
   "source": [
    "*Code*"
   ]
  },
  {
   "cell_type": "code",
   "execution_count": null,
   "metadata": {},
   "outputs": [],
   "source": [
    "print(inspect.getsource(an.generate_box_plot_II))"
   ]
  },
  {
   "cell_type": "markdown",
   "metadata": {},
   "source": [
    "## Violin Plot of iris data set - Common X axis\n",
    "This will display the violin plot in the notebook and also save it to a file.  \n",
    "\n",
    "\n",
    "A violin plot plays a similar role as a box-and-whisker plot. It shows the distribution of data points after grouping by one (or more) variables. Unlike a box plot, each violin is drawn using a kernel density estimate of the underlying distribution. The width of the violin indicates the \"density\" of the points at different values. The fatter the more points are there .\n",
    "\n",
    "- https://seaborn.pydata.org/generated/seaborn.violinplot.html#seaborn.violinplot\n",
    "- Google Gemini - What is a violin Plot\n"
   ]
  },
  {
   "cell_type": "code",
   "execution_count": null,
   "metadata": {},
   "outputs": [],
   "source": [
    "return_code = an.generate_box_plot_II(an.config, to_console=True,kind='violin')\n",
    "if return_code != 0:\n",
    "    print(f\"Error generating box plot I : {return_code}\")\n",
    "else:\n",
    "    print(\"Box plot I generated successfully\")\n"
   ]
  },
  {
   "cell_type": "markdown",
   "metadata": {},
   "source": []
  },
  {
   "cell_type": "markdown",
   "metadata": {},
   "source": [
    "## Boxen Plot of iris data set - Common X axis\n",
    "This will display the boxen plot in the notebook and also save it to a file.\n",
    "This is a boxen plot , similar to the above for each species of iris and feature with a common x axis . This makes it easier to proportianly compare the species and features.\n",
    "\n",
    "The boxen plot shows more quantiles and the tails. Shows the outliers in more detail. It is supposed to be for large data sets. The iris data set may be too small for this plot to be useful.  \n",
    "\n",
    "It does show that generally there is separation between the species for the petal length and width. The outliers show there is overlap between species. The outliers are potentially identified as different species if some catagosing alogorithm was used."
   ]
  },
  {
   "cell_type": "code",
   "execution_count": null,
   "metadata": {},
   "outputs": [],
   "source": [
    "return_code = an.generate_box_plot_II(an.config, to_console=True,kind='boxen')\n",
    "if return_code != 0:\n",
    "    print(f\"Error generating box plot I : {return_code}\")\n",
    "else:\n",
    "    print(\"Box plot I generated successfully\")"
   ]
  }
 ],
 "metadata": {
  "kernelspec": {
   "display_name": "base",
   "language": "python",
   "name": "python3"
  },
  "language_info": {
   "codemirror_mode": {
    "name": "ipython",
    "version": 3
   },
   "file_extension": ".py",
   "mimetype": "text/x-python",
   "name": "python",
   "nbconvert_exporter": "python",
   "pygments_lexer": "ipython3",
   "version": "3.12.7"
  }
 },
 "nbformat": 4,
 "nbformat_minor": 2
}
